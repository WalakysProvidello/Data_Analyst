{
 "cells": [
  {
   "cell_type": "markdown",
   "metadata": {},
   "source": [
    "# Guia de Introdução ao NumPy\n",
    "\n",
    "NumPy, que significa Numerical Python, é uma biblioteca fundamental para a computação científica em Python. Ela fornece suporte para arrays e matrizes, além de funções matemáticas para operações com esses objetos. É, também, a base da biblioteca Pandas.\n",
    "\n"
   ]
  },
  {
   "cell_type": "markdown",
   "metadata": {},
   "source": [
    "## Números aleatórios e estatística básica  "
   ]
  },
  {
   "cell_type": "code",
   "execution_count": 1,
   "metadata": {
    "ExecuteTime": {
     "end_time": "2023-07-03T19:08:37.587777300Z",
     "start_time": "2023-07-03T19:08:37.485498900Z"
    },
    "collapsed": false,
    "jupyter": {
     "outputs_hidden": false
    },
    "tags": []
   },
   "outputs": [
    {
     "name": "stdout",
     "output_type": "stream",
     "text": [
      "0.6329017116699936\n"
     ]
    }
   ],
   "source": [
    "import numpy as np\n",
    "\n",
    "# Crie um gerador de números aleatórios.\n",
    "rng = np.random.default_rng()\n",
    "\n",
    "numero_aleatorio = rng.random()\n",
    "print(numero_aleatorio)"
   ]
  },
  {
   "cell_type": "code",
   "execution_count": 2,
   "metadata": {
    "tags": []
   },
   "outputs": [
    {
     "name": "stdout",
     "output_type": "stream",
     "text": [
      "[0.40416491 0.66145395 0.63645021]\n"
     ]
    }
   ],
   "source": [
    "array_aleatorio = rng.random(3)\n",
    "print(array_aleatorio)"
   ]
  },
  {
   "cell_type": "code",
   "execution_count": 3,
   "metadata": {
    "tags": []
   },
   "outputs": [
    {
     "name": "stdout",
     "output_type": "stream",
     "text": [
      "[4.04164911 6.61453945 6.36450206]\n"
     ]
    }
   ],
   "source": [
    "print(array_aleatorio * 10)"
   ]
  },
  {
   "cell_type": "markdown",
   "metadata": {},
   "source": [
    " Vamos criar um cenário onde esses dados aleatórios podem ser úteis para uma análise de vendas.\n",
    "\n",
    "Suponha que você seja um analista de vendas em uma empresa e queira entender melhor o desempenho das vendas de um produto específico. No entanto, você não tem acesso aos dados reais de vendas, então você decide gerar alguns dados de vendas aleatórios para realizar sua análise."
   ]
  },
  {
   "cell_type": "code",
   "execution_count": 4,
   "metadata": {},
   "outputs": [
    {
     "name": "stdout",
     "output_type": "stream",
     "text": [
      "[ 63 166 148 115 114 178  62 154  80  64 128 196 160 164 157 167 126  69\n",
      " 175 117 125 105  77 189 167 146 110 173 131 116]\n"
     ]
    }
   ],
   "source": [
    "# Gere dados de vendas falsos para 30 dias\n",
    "# Vamos supor que as vendas de um produto podem variar de 50 a 200 por dia \n",
    "rng = np.random.default_rng(seed=42)\n",
    "dados_vendas = rng.integers(low=50, high=200, size=30)\n",
    "print(dados_vendas) "
   ]
  },
  {
   "cell_type": "markdown",
   "metadata": {},
   "source": [
    "Agora, você pode usar esses dados para realizar várias análises. Por exemplo, você pode querer saber qual foi o dia com as vendas mais altas, as vendas mais baixas, ou a média de vendas durante o mês. Aqui está como você pode fazer isso:\n",
    "\n"
   ]
  },
  {
   "cell_type": "code",
   "execution_count": 5,
   "metadata": {
    "ExecuteTime": {
     "end_time": "2023-07-03T19:08:37.632068400Z",
     "start_time": "2023-07-03T19:08:37.588809500Z"
    },
    "collapsed": false,
    "jupyter": {
     "outputs_hidden": false
    }
   },
   "outputs": [
    {
     "name": "stdout",
     "output_type": "stream",
     "text": [
      "196\n"
     ]
    }
   ],
   "source": [
    "print(np.max(dados_vendas))"
   ]
  },
  {
   "cell_type": "code",
   "execution_count": 6,
   "metadata": {
    "ExecuteTime": {
     "end_time": "2023-07-03T19:08:37.645071400Z",
     "start_time": "2023-07-03T19:08:37.603959300Z"
    },
    "collapsed": false,
    "jupyter": {
     "outputs_hidden": false
    }
   },
   "outputs": [
    {
     "name": "stdout",
     "output_type": "stream",
     "text": [
      "11\n"
     ]
    }
   ],
   "source": [
    "print(np.argmax(dados_vendas))"
   ]
  },
  {
   "cell_type": "code",
   "execution_count": 7,
   "metadata": {
    "ExecuteTime": {
     "end_time": "2023-07-03T19:08:37.646071400Z",
     "start_time": "2023-07-03T19:08:37.632068400Z"
    },
    "collapsed": false,
    "jupyter": {
     "outputs_hidden": false
    }
   },
   "outputs": [
    {
     "name": "stdout",
     "output_type": "stream",
     "text": [
      "O dia com as vendas mais altas foi o dia 12 com 196 vendas.\n"
     ]
    }
   ],
   "source": [
    "# Dia com as vendas mais altas\n",
    "vendas_maximas = np.max(dados_vendas)\n",
    "dia_vendas_maximas = np.argmax(dados_vendas) + 1\n",
    "print(f\"O dia com as vendas mais altas foi o dia {dia_vendas_maximas} com {vendas_maximas} vendas.\")"
   ]
  },
  {
   "cell_type": "code",
   "execution_count": 8,
   "metadata": {
    "ExecuteTime": {
     "end_time": "2023-07-03T19:08:37.663806800Z",
     "start_time": "2023-07-03T19:08:37.637069700Z"
    },
    "collapsed": false,
    "jupyter": {
     "outputs_hidden": false
    }
   },
   "outputs": [
    {
     "name": "stdout",
     "output_type": "stream",
     "text": [
      "O dia com as vendas mais baixas foi o dia 7 com 62 vendas.\n"
     ]
    }
   ],
   "source": [
    "# Dia com as vendas mais baixas\n",
    "vendas_minimas = np.min(dados_vendas)\n",
    "dia_vendas_minimas = np.argmin(dados_vendas) + 1\n",
    "print(f\"O dia com as vendas mais baixas foi o dia {dia_vendas_minimas} com {vendas_minimas} vendas.\")"
   ]
  },
  {
   "cell_type": "code",
   "execution_count": 9,
   "metadata": {
    "ExecuteTime": {
     "end_time": "2023-07-03T19:08:37.725368300Z",
     "start_time": "2023-07-03T19:08:37.650546200Z"
    },
    "collapsed": false,
    "jupyter": {
     "outputs_hidden": false
    }
   },
   "outputs": [
    {
     "name": "stdout",
     "output_type": "stream",
     "text": [
      "A média de vendas durante o mês foi de 131.4 vendas por dia.\n"
     ]
    }
   ],
   "source": [
    "# Média de vendas durante o mês\n",
    "media_vendas = np.mean(dados_vendas)\n",
    "print(f\"A média de vendas durante o mês foi de {media_vendas} vendas por dia.\")\n"
   ]
  },
  {
   "cell_type": "code",
   "execution_count": 10,
   "metadata": {
    "ExecuteTime": {
     "end_time": "2023-07-03T19:08:37.732810Z",
     "start_time": "2023-07-03T19:08:37.665985900Z"
    },
    "collapsed": false,
    "jupyter": {
     "outputs_hidden": false
    }
   },
   "outputs": [
    {
     "name": "stdout",
     "output_type": "stream",
     "text": [
      "129.5\n"
     ]
    }
   ],
   "source": [
    "print(np.median(dados_vendas))"
   ]
  },
  {
   "cell_type": "code",
   "execution_count": 11,
   "metadata": {
    "ExecuteTime": {
     "end_time": "2023-07-03T19:08:37.732810Z",
     "start_time": "2023-07-03T19:08:37.682149Z"
    },
    "collapsed": false,
    "jupyter": {
     "outputs_hidden": false
    }
   },
   "outputs": [
    {
     "name": "stdout",
     "output_type": "stream",
     "text": [
      "129.5\n"
     ]
    }
   ],
   "source": [
    "print(np.percentile(dados_vendas, 50))"
   ]
  },
  {
   "cell_type": "code",
   "execution_count": 12,
   "metadata": {
    "ExecuteTime": {
     "end_time": "2023-07-03T19:08:37.732810Z",
     "start_time": "2023-07-03T19:08:37.697103900Z"
    },
    "collapsed": false,
    "jupyter": {
     "outputs_hidden": false
    }
   },
   "outputs": [
    {
     "name": "stdout",
     "output_type": "stream",
     "text": [
      "39.305300745149715\n"
     ]
    }
   ],
   "source": [
    "print(np.std(dados_vendas))"
   ]
  },
  {
   "cell_type": "code",
   "execution_count": 13,
   "metadata": {
    "ExecuteTime": {
     "end_time": "2023-07-03T19:08:37.734208600Z",
     "start_time": "2023-07-03T19:08:37.713232300Z"
    },
    "collapsed": false,
    "jupyter": {
     "outputs_hidden": false
    }
   },
   "outputs": [
    {
     "name": "stdout",
     "output_type": "stream",
     "text": [
      "1544.9066666666665\n"
     ]
    }
   ],
   "source": [
    "print(np.var(dados_vendas))\n"
   ]
  },
  {
   "cell_type": "markdown",
   "metadata": {},
   "source": [
    "Breve resumo e conceitos simplificados das funções estatísticas citadas:\n",
    "\n",
    "1. Mediana:\n",
    "A mediana é um valor que divide um conjunto de dados em duas partes iguais. Para encontrá-la, você deve organizar os dados em ordem crescente ou decrescente e escolher o valor do meio. Se houver um número ímpar de dados, a mediana será exatamente o valor central. Se houver um número par de dados, a mediana será a média dos dois valores do meio.\n",
    "\n",
    "2. Percentil:\n",
    "O percentil é uma medida estatística que indica a posição relativa de um dado dentro de um conjunto de dados. Ele informa a porcentagem de valores que estão abaixo desse dado. Por exemplo, o percentil 50 (também conhecido como mediana) divide os dados em duas partes iguais, com 50% dos valores abaixo dele e 50% acima.\n",
    "\n",
    "3. Desvio padrão:\n",
    "O desvio padrão é uma medida que indica o quão dispersos os valores de um conjunto de dados estão em relação à média. Ele mostra a variabilidade dos dados em relação ao valor médio. Um desvio padrão maior indica que os dados estão mais espalhados, enquanto um desvio padrão menor indica que os dados estão mais próximos da média.\n",
    "\n",
    "4. Variância:\n",
    "A variância é outra medida de dispersão que indica o quão distantes os valores de um conjunto de dados estão da média. Ela é calculada como a média dos quadrados das diferenças entre cada valor e a média. A variância fornece uma medida da dispersão total dos dados, independentemente de serem maiores ou menores que a média.\n",
    "\n",
    "Essas medidas são amplamente utilizadas na estatística para resumir e analisar conjuntos de dados. Elas fornecem informações valiosas sobre a distribuição, a variabilidade e a posição dos dados, permitindo uma compreensão mais completa dos mesmos."
   ]
  }
 ],
 "metadata": {
  "kernelspec": {
   "display_name": "Python 3 (ipykernel)",
   "language": "python",
   "name": "python3"
  },
  "language_info": {
   "codemirror_mode": {
    "name": "ipython",
    "version": 3
   },
   "file_extension": ".py",
   "mimetype": "text/x-python",
   "name": "python",
   "nbconvert_exporter": "python",
   "pygments_lexer": "ipython3",
   "version": "3.10.11"
  }
 },
 "nbformat": 4,
 "nbformat_minor": 4
}
